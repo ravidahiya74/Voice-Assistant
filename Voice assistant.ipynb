{
 "cells": [
  {
   "cell_type": "markdown",
   "metadata": {},
   "source": [
    "# Motivation"
   ]
  },
  {
   "cell_type": "markdown",
   "metadata": {},
   "source": [
    "I have been working on independent projects for a long time now and have worked on projects that involve API integration, web scrapping, utilizing libraries etc. I was thinking of utilising my skills to develop a chatbot for  myself. But I realised that making a personal voice assistant would be even more fun. \n",
    "I came across speech recognition library and thought of giving it a try."
   ]
  },
  {
   "cell_type": "markdown",
   "metadata": {},
   "source": [
    "# What is a Voice Assistant?"
   ]
  },
  {
   "cell_type": "markdown",
   "metadata": {},
   "source": [
    "A voice assistant or intelligent personal assistant is a software agent that can perform tasks or services for an individual based on verbal commands i.e. by interpreting human speech and respond via synthesized voices. Users can ask their assistants’ questions, control home automation devices, and media playback via voice, and manage other basic tasks such as email, to-do lists, open or close any application etc with verbal commands.\n",
    "\n",
    "<img src=\"images/assistant.jpg\">"
   ]
  },
  {
   "cell_type": "markdown",
   "metadata": {},
   "source": [
    "# Future of Voice Assistants"
   ]
  },
  {
   "cell_type": "markdown",
   "metadata": {},
   "source": [
    "Consumer awareness of voice devices and assistants, in terms of all the technology that exists and the capabilities that are already in place, is nascent. Yet, there’s no denying that voice is the future. The technology will continue to drive and shift consumer behavior, and companies need to prepare and adjust accordingly. Search, advertising, content, and commerce are being impacted industry-wide as consumers transform the way they interact with brands as the result of voice technology. Consumers are talking, and it’s a good idea to listen."
   ]
  },
  {
   "cell_type": "markdown",
   "metadata": {},
   "source": [
    "# Features of my own Voice Assistant"
   ]
  },
  {
   "cell_type": "markdown",
   "metadata": {},
   "source": [
    "Thought the possibilities of a Voice Assistant are limited by our own creativity, we are going to build ours with following features: <br />\n",
    "1) Getting the weather of our current location <br />\n",
    "2) Top current news <br />\n",
    "3) Your current location <br />\n",
    "4) Tell you about things or people <br />\n",
    "5) Play Youtube video <br />\n",
    "6) Tell you a geeky joke"
   ]
  },
  {
   "cell_type": "markdown",
   "metadata": {},
   "source": [
    "### Step-1 Importing the libraries"
   ]
  },
  {
   "cell_type": "code",
   "execution_count": 1,
   "metadata": {},
   "outputs": [],
   "source": [
    "import speech_recognition as sr\n",
    "import os\n",
    "import sys\n",
    "import re\n",
    "import webbrowser\n",
    "import requests\n",
    "from pyowm import OWM\n",
    "import urllib\n",
    "import json\n",
    "from bs4 import BeautifulSoup as soup\n",
    "from urllib.request import urlopen\n",
    "import wikipediaapi\n",
    "from pygeocoder import Geocoder\n",
    "from geopy.geocoders import Nominatim\n",
    "import geocoder\n",
    "from webbrowser import open_new_tab\n",
    "import pyjokes"
   ]
  },
  {
   "cell_type": "markdown",
   "metadata": {},
   "source": [
    "### Step-2 Setting up voice input and output"
   ]
  },
  {
   "cell_type": "code",
   "execution_count": 2,
   "metadata": {},
   "outputs": [],
   "source": [
    "#Getting voice input from the user\n",
    "def myCommand():\n",
    "    r = sr.Recognizer()\n",
    "    with sr.Microphone() as source:\n",
    "        print('''\\nMy name is Adam, I can do these things for you:\\nCurrent weather in your city\\nLatest News\\nYour location\\nTell you about things & people\\nPlay a song on Youtube\\nTell a joke\\n'''\n",
    "             )\n",
    "        r.pause_threshold = 1\n",
    "        r.adjust_for_ambient_noise(source, duration=0.5)\n",
    "        audio = r.listen(source)\n",
    "    try:\n",
    "        command = r.recognize_google(audio).lower()\n",
    "        print('You said: ' + command + '\\n')\n",
    "    #loop back to continue to listen for commands if unrecognizable speech is received\n",
    "    except sr.UnknownValueError:\n",
    "        print('....')\n",
    "        command = myCommand();\n",
    "    return command\n",
    "# Function to give voice output \n",
    "def response(audio):\n",
    "    for line in audio.splitlines():\n",
    "        os.system(\"say \" + audio)"
   ]
  },
  {
   "cell_type": "markdown",
   "metadata": {},
   "source": [
    "### Step-3 Adding functions to our Voice Assistant"
   ]
  },
  {
   "cell_type": "code",
   "execution_count": 3,
   "metadata": {},
   "outputs": [],
   "source": [
    "def assistant(command):\n",
    "    # current weather at your current location\n",
    "    if 'weather' in command:\n",
    "        f = open('/Users/ravidahiya/.secret/dark_api.json') #Loading my darksky api\n",
    "        keys = json.load(f)\n",
    "        api = keys['api_key']\n",
    "        g = geocoder.ip('me') \n",
    "        latlong = g.latlng #Getting current lat-long\n",
    "        weather = requests.get(\"https://api.darksky.net/forecast/{}/{},{}\".format(api,latlong[0],latlong[1]))\n",
    "        weather = weather.json()\n",
    "        print('Current weather: {}\\nCurrent temperature: {}\\nHumidity: {}\\nVisibility: {}'.format(\n",
    "            weather['currently']['summary'],weather['currently']['temperature'],weather['currently']['humidity'],\n",
    "            weather['currently']['visibility']))\n",
    "    \n",
    "    #Getting top current news from google news feed\n",
    "    elif 'news' in command:\n",
    "        news_url=\"https://news.google.com/news/rss\"\n",
    "        Client=urlopen(news_url)\n",
    "        xml_page=Client.read()\n",
    "        Client.close()\n",
    "        soup_page=soup(xml_page,\"xml\")\n",
    "        news_list=soup_page.findAll(\"item\")\n",
    "        # Print news title, url and publish date\n",
    "        for news in news_list[0:5]:\n",
    "            try:\n",
    "                print(news.title.text)\n",
    "                print(news.link.text)\n",
    "                print(news.pubDate.text)\n",
    "                response(news.title.text) #Read the news\n",
    "                print(\"-\"*60)\n",
    "            except Exception as e:\n",
    "                print(e)\n",
    "                \n",
    "    #Getting desired topics from wikipedia            \n",
    "    elif 'tell me about' in command:\n",
    "        reg_ex = re.search('tell me about (.*)', command) #to get the item to search in wikipedia\n",
    "        wiki_wiki = wikipediaapi.Wikipedia('en')\n",
    "        page = wiki_wiki.page(reg_ex.group(1))\n",
    "        print(page.summary)\n",
    "    \n",
    "    #Getting current location\n",
    "    elif 'where am i' in command or 'location' in command:\n",
    "        g = geocoder.ip('me')\n",
    "        latlong = g.latlng\n",
    "        geolocator = Nominatim(user_agent=\"specify_your_app_name_here\")\n",
    "        location = geolocator.reverse(latlong)\n",
    "        print(location.address)\n",
    "    \n",
    "    #Playing video on youtube\n",
    "    elif 'play' in command:\n",
    "        reg_ex = re.search('play (.*)', command)\n",
    "        URL = (\"https://www.google.com/search?btnI=I'm+Feeling+Lucky&ie=UTF-8\"\n",
    "       \"&oe=UTF-8&q=site:youtube.com%20inurl:http://www.youtube.com/\"\n",
    "       \"watch?v=%20{0}\".format(reg_ex.group(1)))\n",
    "        open_new_tab(URL)\n",
    "    \n",
    "    #Getting a random joke from pyjokes library\n",
    "    elif 'joke' in command:\n",
    "        joke = pyjokes.get_joke()\n",
    "        print(joke)\n",
    "        response(joke)\n",
    "    \n",
    "    #exit\n",
    "    elif 'exit' in command or 'quit' in command:\n",
    "        sys.exit(1)\n",
    "    \n",
    "    #to get next commnand from the user\n",
    "    while True:\n",
    "        assistant(myCommand())"
   ]
  },
  {
   "cell_type": "code",
   "execution_count": 4,
   "metadata": {
    "scrolled": false
   },
   "outputs": [
    {
     "name": "stdout",
     "output_type": "stream",
     "text": [
      "\n",
      "My name is Adam, I can do these things for you:\n",
      "Current weather in your city\n",
      "Latest News\n",
      "Your location\n",
      "Tell you about things & people\n",
      "Play a song on Youtube\n",
      "Tell a joke\n",
      "\n",
      "You said: what is the weather\n",
      "\n",
      "Current weather: Mostly Cloudy\n",
      "Current temperature: 44.23\n",
      "Humidity: 0.88\n",
      "Visibility: 10\n",
      "\n",
      "My name is Adam, I can do these things for you:\n",
      "Current weather in your city\n",
      "Latest News\n",
      "Your location\n",
      "Tell you about things & people\n",
      "Play a song on Youtube\n",
      "Tell a joke\n",
      "\n",
      "You said: tell me the news\n",
      "\n",
      "Kazakhstan plane crash: At least 15 people killed after Bek Air flight carrying 98 passengers and crew crashes in Almaty - The Telegraph\n",
      "https://news.google.com/__i/rss/rd/articles/CBMibmh0dHBzOi8vd3d3LnRlbGVncmFwaC5jby51ay9uZXdzLzIwMTkvMTIvMjcva2F6YWtoc3Rhbi1wbGFuZS1jcmFzaGJlay1haXItYWlyY3JhZnQtY2FycnlpbmctbmVhcmx5LTEwMC1wZW9wbGUv0gEA?oc=5\n",
      "Fri, 27 Dec 2019 04:05:00 GMT\n",
      "------------------------------------------------------------\n",
      "Battersea fatal shooting: Flamur Beqiri 'may have had criminal links' - BBC News\n",
      "https://news.google.com/__i/rss/rd/articles/CBMiNWh0dHBzOi8vd3d3LmJiYy5jby51ay9uZXdzL3VrLWVuZ2xhbmQtbG9uZG9uLTUwOTI4MDEx0gE5aHR0cHM6Ly93d3cuYmJjLmNvLnVrL25ld3MvYW1wL3VrLWVuZ2xhbmQtbG9uZG9uLTUwOTI4MDEx?oc=5\n",
      "Fri, 27 Dec 2019 16:15:01 GMT\n",
      "------------------------------------------------------------\n",
      "Police investigate film of man hitting van with dead fox - The Guardian\n",
      "https://news.google.com/__i/rss/rd/articles/CBMiaGh0dHBzOi8vd3d3LnRoZWd1YXJkaWFuLmNvbS91ay1uZXdzLzIwMTkvZGVjLzI3L3BvbGljZS1pbnZlc3RpZ2F0ZS1maWxtLW9mLW1hbi1oaXR0aW5nLXZhbi13aXRoLWRlYWQtZm940gFoaHR0cHM6Ly9hbXAudGhlZ3VhcmRpYW4uY29tL3VrLW5ld3MvMjAxOS9kZWMvMjcvcG9saWNlLWludmVzdGlnYXRlLWZpbG0tb2YtbWFuLWhpdHRpbmctdmFuLXdpdGgtZGVhZC1mb3g?oc=5\n",
      "Fri, 27 Dec 2019 16:13:00 GMT\n",
      "------------------------------------------------------------\n",
      "UK in new Brexit row as EU President warns deadline could have to be delayed - Mirror Online\n",
      "https://news.google.com/__i/rss/rd/articles/CBMiRGh0dHBzOi8vd3d3Lm1pcnJvci5jby51ay9uZXdzL3BvbGl0aWNzL3VrLW5ldy1icmV4aXQtcm93LWV1LTIxMTcwNzAw0gFIaHR0cHM6Ly93d3cubWlycm9yLmNvLnVrL25ld3MvcG9saXRpY3MvdWstbmV3LWJyZXhpdC1yb3ctZXUtMjExNzA3MDAuYW1w?oc=5\n",
      "Fri, 27 Dec 2019 13:31:00 GMT\n",
      "------------------------------------------------------------\n",
      "Treasury 'to rewrite rules to favour the North' - BBC News\n",
      "https://news.google.com/__i/rss/rd/articles/CBMiLGh0dHBzOi8vd3d3LmJiYy5jby51ay9uZXdzL2J1c2luZXNzLTUwOTI1MzIx0gEwaHR0cHM6Ly93d3cuYmJjLmNvLnVrL25ld3MvYW1wL2J1c2luZXNzLTUwOTI1MzIx?oc=5\n",
      "Fri, 27 Dec 2019 14:57:36 GMT\n",
      "------------------------------------------------------------\n",
      "\n",
      "My name is Adam, I can do these things for you:\n",
      "Current weather in your city\n",
      "Latest News\n",
      "Your location\n",
      "Tell you about things & people\n",
      "Play a song on Youtube\n",
      "Tell a joke\n",
      "\n",
      "You said: tell me about brexit\n",
      "\n",
      "Brexit (; a portmanteau of \"British\" and \"exit\") is the withdrawal of the United Kingdom (UK) from the European Union (EU). Following a June 2016 referendum, in which 51.9% voted to leave, the UK government formally announced the country's withdrawal in March 2017, starting a process that is currently due to conclude with the UK withdrawing no later than 31 January 2020.Withdrawal is advocated by Eurosceptics and opposed by pro-Europeanists, both of whom span the political spectrum. The UK joined the European Economic Community (EEC) in 1973, with continued membership endorsed in a 1975 referendum. In the 1970s and 1980s, withdrawal from the EC was advocated mainly by the political left, e.g. in the Labour Party's 1983 election manifesto. The 1992 Maastricht Treaty founded the EU, but was not put to a referendum. The eurosceptic wing of the Conservative Party led a rebellion over ratification of the treaty and, with the UK Independence Party (UKIP) and the cross-party People's Pledge campaign, pressured Conservative Prime Minister David Cameron to hold a referendum on continued EU membership. Cameron, who had campaigned to remain, resigned after the result and was succeeded by Theresa May.\n",
      "On 29 March 2017, the UK government formally began the process of withdrawal by invoking Article 50 of the Treaty on European Union with permission from Parliament. May called a snap general election in June 2017, which resulted in a Conservative minority government supported by the Democratic Unionist Party. UK–EU withdrawal negotiations began later that month. The UK negotiated to leave the EU customs union and single market. This resulted in the November 2018 withdrawal agreement, but the UK parliament voted against ratifying it three times. The Labour Party wanted any agreement to maintain a customs union, while many Conservatives opposed the agreement's financial settlement, as well as the \"Irish backstop\" designed to prevent border controls between Northern Ireland and the Republic of Ireland. The Liberal Democrats, Scottish National Party, and others seek to reverse Brexit through a second referendum.\n",
      "In March 2019, the UK parliament voted for May to ask the EU to delay Brexit until April, and then later October. Having failed to get her agreement approved, May resigned as prime minister in July and was succeeded by Boris Johnson. He sought to replace parts of the agreement and vowed to leave the EU by the new deadline. On 17 October 2019, the UK government and EU agreed a revised withdrawal agreement, with new arrangements for Northern Ireland. Parliament approved the agreement for further scrutiny, but rejected plans to pass it into law before the 31 October deadline, and forced the government (through the 'Benn Act') to ask for a third Brexit delay. An early general election was then held on 12 December. The Conservatives won a majority in that election, with Johnson declaring that the UK would leave the EU in early 2020. There would then be a transition period until at least 31 December 2020, where the future relationship will be negotiated.\n",
      "Many effects of Brexit depend on how closely the UK will be tied to the EU, or whether it withdraws before terms are agreed – referred to as a no-deal Brexit. The broad consensus among economists is that Brexit will likely harm the UK's economy and reduce its real per capita income in the medium term and long term, and that the referendum itself damaged the economy. Brexit is likely to reduce immigration from European Economic Area (EEA) countries to the UK, and poses challenges for UK higher education, academic research and security. Following Brexit, EU law and the EU Court of Justice will no longer have supremacy over UK laws or its Supreme Court, except to a temporary extent agreed upon in a withdrawal agreement. The European Union (Withdrawal) Act 2018 retains relevant EU law as domestic law, which the UK could then amend or repeal.\n",
      "\n",
      "My name is Adam, I can do these things for you:\n",
      "Current weather in your city\n",
      "Latest News\n",
      "Your location\n",
      "Tell you about things & people\n",
      "Play a song on Youtube\n",
      "Tell a joke\n",
      "\n",
      "You said: tell me a joke\n",
      "\n",
      "How do you generate a random string? Put a first year Computer Science student in Vim and ask them to save and exit.\n",
      "\n",
      "My name is Adam, I can do these things for you:\n",
      "Current weather in your city\n",
      "Latest News\n",
      "Your location\n",
      "Tell you about things & people\n",
      "Play a song on Youtube\n",
      "Tell a joke\n",
      "\n",
      "You said: exit\n",
      "\n"
     ]
    },
    {
     "ename": "SystemExit",
     "evalue": "1",
     "output_type": "error",
     "traceback": [
      "An exception has occurred, use %tb to see the full traceback.\n",
      "\u001b[0;31mSystemExit\u001b[0m\u001b[0;31m:\u001b[0m 1\n"
     ]
    },
    {
     "name": "stderr",
     "output_type": "stream",
     "text": [
      "/Users/ravidahiya/anaconda3/lib/python3.7/site-packages/IPython/core/interactiveshell.py:3334: UserWarning: To exit: use 'exit', 'quit', or Ctrl-D.\n",
      "  warn(\"To exit: use 'exit', 'quit', or Ctrl-D.\", stacklevel=1)\n"
     ]
    }
   ],
   "source": [
    "assistant(myCommand())"
   ]
  },
  {
   "cell_type": "code",
   "execution_count": null,
   "metadata": {},
   "outputs": [],
   "source": []
  }
 ],
 "metadata": {
  "kernelspec": {
   "display_name": "Python 3",
   "language": "python",
   "name": "python3"
  },
  "language_info": {
   "codemirror_mode": {
    "name": "ipython",
    "version": 3
   },
   "file_extension": ".py",
   "mimetype": "text/x-python",
   "name": "python",
   "nbconvert_exporter": "python",
   "pygments_lexer": "ipython3",
   "version": "3.7.4"
  }
 },
 "nbformat": 4,
 "nbformat_minor": 2
}
